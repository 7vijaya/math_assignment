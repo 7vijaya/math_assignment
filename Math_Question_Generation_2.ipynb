{
 "cells": [
  {
   "cell_type": "code",
   "execution_count": 1,
   "id": "726ac3c8",
   "metadata": {},
   "outputs": [
    {
     "data": {
      "text/markdown": [
       "### Question:\n",
       "The top view of a rectangular box containing 6 tightly packed **cylinders** is shown. If each cylinder has a diameter of 2 centimeters, which of the following is closest to the dimensions, in centimeters, of the rectangular box?"
      ],
      "text/plain": [
       "<IPython.core.display.Markdown object>"
      ]
     },
     "metadata": {},
     "output_type": "display_data"
    },
    {
     "data": {
      "text/markdown": [
       "**Layout:** 3 rows of 2 cylinders"
      ],
      "text/plain": [
       "<IPython.core.display.Markdown object>"
      ]
     },
     "metadata": {},
     "output_type": "display_data"
    },
    {
     "data": {
      "text/markdown": [
       "### Options:"
      ],
      "text/plain": [
       "<IPython.core.display.Markdown object>"
      ]
     },
     "metadata": {},
     "output_type": "display_data"
    },
    {
     "data": {
      "text/markdown": [
       "**(A)** $6 \\times 8 \\times 6$"
      ],
      "text/plain": [
       "<IPython.core.display.Markdown object>"
      ]
     },
     "metadata": {},
     "output_type": "display_data"
    },
    {
     "data": {
      "text/markdown": [
       "**(B)** $2 \\times 4 \\times 2$"
      ],
      "text/plain": [
       "<IPython.core.display.Markdown object>"
      ]
     },
     "metadata": {},
     "output_type": "display_data"
    },
    {
     "data": {
      "text/markdown": [
       "**(C)** $4 \\times 6 \\times 4$"
      ],
      "text/plain": [
       "<IPython.core.display.Markdown object>"
      ]
     },
     "metadata": {},
     "output_type": "display_data"
    },
    {
     "data": {
      "text/markdown": [
       "**(D)** $4 \\times 8 \\times 6$"
      ],
      "text/plain": [
       "<IPython.core.display.Markdown object>"
      ]
     },
     "metadata": {},
     "output_type": "display_data"
    },
    {
     "data": {
      "text/markdown": [
       "**(E)** $6 \\times 6 \\times 4$"
      ],
      "text/plain": [
       "<IPython.core.display.Markdown object>"
      ]
     },
     "metadata": {},
     "output_type": "display_data"
    },
    {
     "data": {
      "image/png": "[encoded data removed]",
      "text/plain": [
       "<Figure size 432x288 with 1 Axes>"
      ]
     },
     "metadata": {
      "needs_background": "light"
     },
     "output_type": "display_data"
    }
   ],
   "source": [
    "import random\n",
    "import matplotlib.pyplot as plt\n",
    "from IPython.display import display, Markdown\n",
    "\n",
    "def generate_packing_question_with_image():\n",
    "    # Randomly choose between spheres and cylinders\n",
    "    shape = random.choice([\"spheres\", \"cylinders\"])\n",
    "\n",
    "    # Define layout and dimensions\n",
    "    if shape == \"spheres\":\n",
    "        count = random.choice([6, 9])\n",
    "        radius = random.choice([1, 2])\n",
    "        diameter = 2 * radius\n",
    "        layout_rows = 3\n",
    "        layout_cols = count // layout_rows\n",
    "        dimension_x = diameter * layout_cols\n",
    "        dimension_y = diameter * layout_rows\n",
    "        dimension_z = diameter\n",
    "        question = f\"The top view of a rectangular package of {count} tightly packed **{shape}** is shown. If each {shape[:-1]} has a radius of {radius} centimeters, which of the following is closest to the dimensions, in centimeters, of the rectangular package?\"\n",
    "    else:\n",
    "        count = random.choice([6, 8])\n",
    "        diameter = random.choice([2, 3])\n",
    "        radius = diameter / 2\n",
    "        layout_rows = count // 2\n",
    "        layout_cols = 2\n",
    "        dimension_x = diameter * layout_cols\n",
    "        dimension_y = diameter * layout_rows\n",
    "        dimension_z = diameter * 2\n",
    "        question = f\"The top view of a rectangular box containing {count} tightly packed **{shape}** is shown. If each {shape[:-1]} has a diameter of {diameter} centimeters, which of the following is closest to the dimensions, in centimeters, of the rectangular box?\"\n",
    "\n",
    "    # Generate multiple choice options\n",
    "    options = [\n",
    "        f\"${dimension_x - 2} \\\\times {dimension_y - 2} \\\\times {dimension_z - 2}$\",\n",
    "        f\"${dimension_x} \\\\times {dimension_y} \\\\times {dimension_z}$\",\n",
    "        f\"${dimension_x + 2} \\\\times {dimension_y} \\\\times {dimension_z}$\",\n",
    "        f\"${dimension_x} \\\\times {dimension_y + 2} \\\\times {dimension_z + 2}$\",\n",
    "        f\"${dimension_x + 2} \\\\times {dimension_y + 2} \\\\times {dimension_z + 2}$\"\n",
    "    ]\n",
    "    random.shuffle(options)\n",
    "\n",
    "    # Display question and options\n",
    "    display(Markdown(f\"### Question:\\n{question}\"))\n",
    "    display(Markdown(f\"**Layout:** {layout_rows} rows of {layout_cols} {shape}\"))\n",
    "    display(Markdown(\"### Options:\"))\n",
    "    for i, opt in enumerate(options):\n",
    "        display(Markdown(f\"**({chr(65+i)})** {opt}\"))\n",
    "\n",
    "    # Generate and display layout image\n",
    "    fig, ax = plt.subplots()\n",
    "    ax.set_aspect('equal')\n",
    "    for row in range(layout_rows):\n",
    "        for col in range(layout_cols):\n",
    "            x = col * diameter + radius\n",
    "            y = row * diameter + radius\n",
    "            circle = plt.Circle((x, y), radius, color='skyblue', ec='black')\n",
    "            ax.add_patch(circle)\n",
    "    ax.set_xlim(0, diameter * layout_cols)\n",
    "    ax.set_ylim(0, diameter * layout_rows)\n",
    "    ax.axis('off')\n",
    "    plt.title(f\"Top view of {count} tightly packed {shape}\")\n",
    "    plt.show()\n",
    "\n",
    "# Run the function\n",
    "generate_packing_question_with_image()\n"
   ]
  },
  {
   "cell_type": "code",
   "execution_count": null,
   "id": "7254c6fc",
   "metadata": {},
   "outputs": [],
   "source": []
  }
 ],
 "metadata": {
  "kernelspec": {
   "display_name": "Python 3",
   "language": "python",
   "name": "python3"
  },
  "language_info": {
   "codemirror_mode": {
    "name": "ipython",
    "version": 3
   },
   "file_extension": ".py",
   "mimetype": "text/x-python",
   "name": "python",
   "nbconvert_exporter": "python",
   "pygments_lexer": "ipython3",
   "version": "3.8.8"
  }
 },
 "nbformat": 4,
 "nbformat_minor": 5
}
