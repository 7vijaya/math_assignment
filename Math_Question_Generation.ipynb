{
 "cells": [
  {
   "cell_type": "code",
   "execution_count": 1,
   "id": "e95585a3",
   "metadata": {},
   "outputs": [
    {
     "name": "stdout",
     "output_type": "stream",
     "text": [
      "Image 'uniform_choices_table.png' has been created successfully.\n"
     ]
    },
    {
     "data": {
      "image/png": "[encoded data removed]",
      "text/plain": [
       "<Figure size 432x144 with 1 Axes>"
      ]
     },
     "metadata": {
      "needs_background": "light"
     },
     "output_type": "display_data"
    }
   ],
   "source": [
    "import matplotlib.pyplot as plt\n",
    "import pandas as pd\n",
    "\n",
    "# Data for the table\n",
    "data = {\n",
    "    \"Blazer Color\": [\"Blue\", \"Green\", \"Maroon\", \"Black\"],\n",
    "    \"Trousers Color\": [\"Gray\", \"Black\", \"Navy\", \"\"]\n",
    "}\n",
    "\n",
    "# Create a DataFrame\n",
    "df = pd.DataFrame(data)\n",
    "\n",
    "# Create a figure and axis\n",
    "fig, ax = plt.subplots(figsize=(6, 2))\n",
    "ax.axis('tight')\n",
    "ax.axis('off')\n",
    "\n",
    "# Create the table\n",
    "table = ax.table(cellText=df.values,\n",
    "                 colLabels=df.columns,\n",
    "                 cellLoc='center',\n",
    "                 loc='center')\n",
    "\n",
    "# Set font size and scale\n",
    "table.auto_set_font_size(False)\n",
    "table.set_fontsize(12)\n",
    "table.scale(1.2, 1.2)\n",
    "\n",
    "# Save the image\n",
    "plt.savefig(\"uniform_choices_table.png\", bbox_inches='tight')\n",
    "\n",
    "print(\"Image 'uniform_choices_table.png' has been created successfully.\")\n",
    "\n"
   ]
  },
  {
   "cell_type": "code",
   "execution_count": null,
   "id": "05c352d9",
   "metadata": {},
   "outputs": [],
   "source": []
  },
  {
   "cell_type": "code",
   "execution_count": 2,
   "id": "d42ed791",
   "metadata": {},
   "outputs": [
    {
     "name": "stdout",
     "output_type": "stream",
     "text": [
      "\n",
      "**Each athlete at Horizon Academy wears a sports kit consisting of 1 T-Shirt and 1 pair of Shorts. The table shows the available colors for each item. How many different kits can be formed?**\n",
      "\n",
      "| T-Shirt Color | Shorts Color |\n",
      "| :--------------------------: | :--------------------------: |\n",
      "| Blue | Black |\n",
      "| Orange | Gray |\n",
      "| Green |  |\n",
      "| Purple | White |\n",
      "\n",
      "**(A)** 11\n",
      "**(B)** 12\n",
      "**(C)** 13\n",
      "**(D)** 15\n",
      "**(E)** 17\n",
      "\n",
      "**Answer:**\n",
      "$$ 4 \\times 4 = 12 \\text{ valid combinations} $$\n"
     ]
    }
   ],
   "source": [
    "import random\n",
    "\n",
    "def generate_question():\n",
    "    # Define sample clothing items and colors\n",
    "    clothing_items = [\n",
    "        (\"T-Shirt\", [\"Orange\", \"Blue\", \"Green\", \"Purple\"]),\n",
    "        (\"Shorts\", [\"Black\", \"White\", \"Gray\", \"\"])  # One blank cell\n",
    "    ]\n",
    "\n",
    "    # Shuffle the colors to vary the combinations\n",
    "    random.shuffle(clothing_items[0][1])\n",
    "    random.shuffle(clothing_items[1][1])\n",
    "\n",
    "    # Count non-empty combinations\n",
    "    valid_combinations = sum(\n",
    "        1 for shirt in clothing_items[0][1] for shorts in clothing_items[1][1] if shirt and shorts\n",
    "    )\n",
    "\n",
    "    # Generate multiple choice options\n",
    "    options = sorted(set([\n",
    "        valid_combinations,\n",
    "        valid_combinations - 1,\n",
    "        valid_combinations + 1,\n",
    "        valid_combinations + 3,\n",
    "        valid_combinations + 5\n",
    "    ]))\n",
    "\n",
    "    # Format the question in Markdown with LaTeX\n",
    "    question_md = f\"\"\"\n",
    "**Each athlete at Horizon Academy wears a sports kit consisting of 1 {clothing_items[0][0]} and 1 pair of {clothing_items[1][0]}. The table shows the available colors for each item. How many different kits can be formed?**\n",
    "\n",
    "| {clothing_items[0][0]} Color | {clothing_items[1][0]} Color |\n",
    "| :--------------------------: | :--------------------------: |\n",
    "\"\"\"\n",
    "\n",
    "    for shirt, shorts in zip(clothing_items[0][1], clothing_items[1][1]):\n",
    "        question_md += f\"| {shirt or ''} | {shorts or ''} |\\n\"\n",
    "\n",
    "    question_md += \"\\n\"\n",
    "    for i, opt in enumerate(options):\n",
    "        question_md += f\"**({chr(65+i)})** {opt}\\n\"\n",
    "\n",
    "    question_md += f\"\\n**Answer:**\\n$$ {len(clothing_items[0][1])} \\\\times {len(clothing_items[1][1])} = {valid_combinations} \\\\text{{ valid combinations}} $$\"\n",
    "\n",
    "    return question_md\n",
    "\n",
    "# Generate and print the question\n",
    "print(generate_question())\n",
    "\n"
   ]
  },
  {
   "cell_type": "code",
   "execution_count": null,
   "id": "00dbd43b",
   "metadata": {},
   "outputs": [],
   "source": []
  }
 ],
 "metadata": {
  "kernelspec": {
   "display_name": "Python 3",
   "language": "python",
   "name": "python3"
  },
  "language_info": {
   "codemirror_mode": {
    "name": "ipython",
    "version": 3
   },
   "file_extension": ".py",
   "mimetype": "text/x-python",
   "name": "python",
   "nbconvert_exporter": "python",
   "pygments_lexer": "ipython3",
   "version": "3.8.8"
  }
 },
 "nbformat": 4,
 "nbformat_minor": 5
}
